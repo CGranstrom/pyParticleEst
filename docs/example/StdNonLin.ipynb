{
 "metadata": {
  "name": "",
  "signature": "sha256:fde62998f8ba8fe54c5d06f7b3fbbb9ae3cd9861e97a0723905250afc42f2dea"
 },
 "nbformat": 3,
 "nbformat_minor": 0,
 "worksheets": [
  {
   "cells": [
    {
     "cell_type": "heading",
     "level": 1,
     "metadata": {},
     "source": [
      "Standard Nonlinear Model\n"
     ]
    },
    {
     "cell_type": "heading",
     "level": 6,
     "metadata": {},
     "source": [
      "Example code for estimation the standard nonlinear model typically found in articles about particle filters"
     ]
    },
    {
     "cell_type": "heading",
     "level": 6,
     "metadata": {},
     "source": [
      "Import needed packages, from pyparticleest we use the base class for nonlinear models with additive Gaussian noise (NLG). We also use the simulator class as an easy interface to the actual algorithm inside pyparticleest.\n"
     ]
    },
    {
     "cell_type": "code",
     "collapsed": false,
     "input": [
      "%matplotlib inline\n",
      "import numpy\n",
      "import math\n",
      "import pyparticleest.models.nlg as nlg\n",
      "import pyparticleest.simulator as simulator\n",
      "import matplotlib.pyplot as plt\n"
     ],
     "language": "python",
     "metadata": {},
     "outputs": [],
     "prompt_number": 1
    },
    {
     "cell_type": "heading",
     "level": 6,
     "metadata": {},
     "source": [
      "\n",
      "Generate true trajectory x and measurements y. The goal is the create an estimate of x by only using the measurements y later in the code\n"
     ]
    },
    {
     "cell_type": "code",
     "collapsed": false,
     "input": [
      "def generate_dataset(steps, P0, Q, R):\n",
      "    x = numpy.zeros((steps + 1,))\n",
      "    y = numpy.zeros((steps + 1,))\n",
      "    x[0] = numpy.random.multivariate_normal((0.0,), P0)\n",
      "    y[0] = (0.05 * x[0] ** 2 +\n",
      "            numpy.random.multivariate_normal((0.0,), R))\n",
      "    for k in range(0, steps):\n",
      "        x[k + 1] = (0.5 * x[k] +\n",
      "                    25.0 * x[k] / (1 + x[k] ** 2) +\n",
      "                    8 * math.cos(1.2 * k) +\n",
      "                    numpy.random.multivariate_normal((0.0,), Q))\n",
      "        y[k + 1] = (0.05 * x[k + 1] ** 2 +\n",
      "                    numpy.random.multivariate_normal((0.0,), R))\n",
      "\n",
      "    return (x, y)\n"
     ],
     "language": "python",
     "metadata": {},
     "outputs": [],
     "prompt_number": 2
    },
    {
     "cell_type": "heading",
     "level": 6,
     "metadata": {},
     "source": [
      "\n",
      "Define the model for the standard nonlinaer example, it is of the type Nonlinear Gaussian with an initial Gaussian distribution of the states aswell. We therefore use the nlg.NonlinearGaussianInitialGaussian base class and only override the calc_g and calc_f methods.\n"
     ]
    },
    {
     "cell_type": "code",
     "collapsed": false,
     "input": [
      "class StdNonLin(nlg.NonlinearGaussianInitialGaussian):\n",
      "    # x_{k+1} = 0.5*x_k + 25.0*x_k/(1+x_k**2) +\n",
      "    #           8*math.cos(1.2*k) + v_k = f(x_k) + v:\n",
      "    # y_k = 0.05*x_k**2 + e_k = g(x_k) + e_k,\n",
      "    # x(0) ~ N(0,P0), v_k ~ N(0,Q), e_k ~ N(0,R)\n",
      "\n",
      "    def __init__(self, P0, Q, R):\n",
      "\t# Set covariances in the constructor since they\n",
      "\t# are constant\n",
      "        super(StdNonLin, self).__init__(Px0=P0, Q=Q, R=R)\n",
      "\n",
      "    def calc_g(self, particles, t):\n",
      "\t# Calculate value of g(\\xi_t,t)\n",
      "        return 0.05 * particles ** 2\n",
      "\n",
      "    def calc_f(self, particles, u, t):\n",
      "\t# Calculate value of f(xi_t,t)\n",
      "        return (0.5 * particles +\n",
      "                25.0 * particles / (1 + particles ** 2) +\n",
      "                8 * math.cos(1.2 * t))\n",
      "    "
     ],
     "language": "python",
     "metadata": {},
     "outputs": [],
     "prompt_number": 3
    },
    {
     "cell_type": "heading",
     "level": 6,
     "metadata": {},
     "source": [
      "\n",
      "Define the length of the dataset and the noise parameters for our model.\n"
     ]
    },
    {
     "cell_type": "code",
     "collapsed": false,
     "input": [
      "T = 40\n",
      "P0 = 5.0 * numpy.eye(1)\n",
      "Q = 1.0 * numpy.eye(1)\n",
      "R = 0.1 * numpy.eye(1)\n",
      "\n",
      "# Forward particles\n",
      "N = 100\n",
      "# Backward trajectories\n",
      "M = 10\n"
     ],
     "language": "python",
     "metadata": {},
     "outputs": [],
     "prompt_number": 4
    },
    {
     "cell_type": "heading",
     "level": 6,
     "metadata": {},
     "source": [
      "\n",
      "Instantiate our model using the parameters defined above.\n",
      "    "
     ]
    },
    {
     "cell_type": "code",
     "collapsed": false,
     "input": [
      "model = StdNonLin(P0, Q, R)\n"
     ],
     "language": "python",
     "metadata": {},
     "outputs": [],
     "prompt_number": 5
    },
    {
     "cell_type": "heading",
     "level": 6,
     "metadata": {},
     "source": [
      "\n",
      "Set the seed of the random number generator so that the same dataset is generated each time the example is run.\n",
      "    "
     ]
    },
    {
     "cell_type": "code",
     "collapsed": false,
     "input": [
      "numpy.random.seed(0)\n",
      "(x, y) = generate_dataset(T, P0, Q, R)\n"
     ],
     "language": "python",
     "metadata": {},
     "outputs": [],
     "prompt_number": 6
    },
    {
     "cell_type": "heading",
     "level": 6,
     "metadata": {},
     "source": [
      "\n",
      "Create a simulator object using our previously instatiated model combined with the measurements y. This example doesn't use any input signals u. Use N particle for the filter, M trajectories for the smoother. For the filtering algorithm use the standard bootstrap particle filter, for the smoothing use backward simulation with rejections sampling and adaptive stopping. Indicate that the first measurement is of the initial state. (If false the first measurement would have corresponding to after propagating the states forward in time once first).\n"
     ]
    },
    {
     "cell_type": "code",
     "collapsed": false,
     "input": [
      "sim = simulator.Simulator(model, u=None, y=y)\n",
      "sim.simulate(N, M, filter='PF', smoother='rsas', meas_first=True)\n"
     ],
     "language": "python",
     "metadata": {},
     "outputs": [
      {
       "metadata": {},
       "output_type": "pyout",
       "prompt_number": 7,
       "text": [
        "25"
       ]
      }
     ],
     "prompt_number": 7
    },
    {
     "cell_type": "heading",
     "level": 6,
     "metadata": {},
     "source": [
      "\n",
      "Extract the filtered estimates, and computed the weighed mean of the filtered estimates.\n",
      "    "
     ]
    },
    {
     "cell_type": "code",
     "collapsed": false,
     "input": [
      "(est_filt, w_filt) = sim.get_filtered_estimates()\n",
      "mean_filt = sim.get_filtered_mean()\n"
     ],
     "language": "python",
     "metadata": {},
     "outputs": [],
     "prompt_number": 8
    },
    {
     "cell_type": "heading",
     "level": 6,
     "metadata": {},
     "source": [
      "\n",
      "Extract smoothed estimates and mean and plot the mean.\n",
      "    "
     ]
    },
    {
     "cell_type": "code",
     "collapsed": false,
     "input": [
      "est_smooth = sim.get_smoothed_estimates()\n",
      "\n",
      "mean_smooth = sim.get_smoothed_mean()\n",
      "   "
     ],
     "language": "python",
     "metadata": {},
     "outputs": [],
     "prompt_number": 9
    },
    {
     "cell_type": "heading",
     "level": 6,
     "metadata": {},
     "source": [
      "\n",
      "Plot the true state trajectory, particle estimates, weighted filtered mean and smoothed mean estimates\n",
      "    "
     ]
    },
    {
     "cell_type": "code",
     "collapsed": false,
     "input": [
      "plt.plot(range(T + 1), x, 'r-', linewidth=2.0, label='True')\n",
      "plt.plot((0,) * N, est_filt[0, :, 0].ravel(), 'k.',\n",
      "        markersize=0.5, label='Particles')\n",
      "for t in xrange(1, T + 1):\n",
      "    plt.plot((t,) * N, est_filt[t, :, 0].ravel(),\n",
      "             'k.', markersize=0.5)\n",
      "plt.plot(range(T + 1), mean_filt[:, 0], 'g--',\n",
      "         linewidth=2.0, label='Filter mean')\n",
      "plt.plot(range(T + 1), mean_smooth[:, 0], 'b--',\n",
      "         linewidth=2.0, label='Smoother mean')\n",
      "plt.xlabel('t')\n",
      "plt.ylabel('x')\n"
     ],
     "language": "python",
     "metadata": {},
     "outputs": [
      {
       "metadata": {},
       "output_type": "pyout",
       "prompt_number": 10,
       "text": [
        "<matplotlib.text.Text at 0x7f2a7848a3d0>"
       ]
      },
      {
       "metadata": {},
       "output_type": "display_data",
       "png": "[encoded data removed]",
       "text": [
        "<matplotlib.figure.Figure at 0x7f2a784d6110>"
       ]
      }
     ],
     "prompt_number": 10
    }
   ],
   "metadata": {}
  }
 ]
}